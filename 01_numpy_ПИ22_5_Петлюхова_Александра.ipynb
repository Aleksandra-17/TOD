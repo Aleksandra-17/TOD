{
  "cells": [
    {
      "cell_type": "markdown",
      "metadata": {
        "id": "ilJceOz46AeU"
      },
      "source": [
        "# Numpy"
      ]
    },
    {
      "cell_type": "markdown",
      "metadata": {
        "id": "lMNrHXCh6AeX"
      },
      "source": [
        "Материалы:\n",
        "* Макрушин С.В. \"Лекция 1: Библиотека Numpy\"\n",
        "* https://numpy.org/doc/stable/user/index.html\n",
        "* https://numpy.org/doc/stable/reference/index.html"
      ]
    },
    {
      "cell_type": "markdown",
      "metadata": {
        "id": "CxrVW6m46AeY"
      },
      "source": [
        "## Задачи для совместного разбора"
      ]
    },
    {
      "cell_type": "markdown",
      "metadata": {
        "id": "3HkFaryl6AeY"
      },
      "source": [
        "1. Сгенерировать двухмерный массив `arr` размерности (4, 7), состоящий из случайных действительных чисел, равномерно распределенных в диапазоне от 0 до 20. Нормализовать значения массива с помощью преобразования вида  $𝑎𝑥+𝑏$  так, что после нормализации максимальный элемент масcива будет равен 1.0, минимальный 0.0"
      ]
    },
    {
      "cell_type": "code",
      "execution_count": null,
      "metadata": {
        "id": "p4StZgtc6AeZ",
        "colab": {
          "base_uri": "https://localhost:8080/",
          "height": 363
        },
        "outputId": "2a84cbe7-340f-4e09-914c-f7cd777267a8"
      },
      "outputs": [
        {
          "output_type": "error",
          "ename": "OSError",
          "evalue": "ignored",
          "traceback": [
            "\u001b[0;31m---------------------------------------------------------------------------\u001b[0m",
            "\u001b[0;31mOSError\u001b[0m                                   Traceback (most recent call last)",
            "\u001b[0;32m<ipython-input-1-7703ba616be5>\u001b[0m in \u001b[0;36m<module>\u001b[0;34m\u001b[0m\n\u001b[1;32m      1\u001b[0m \u001b[0;32mimport\u001b[0m \u001b[0mnumpy\u001b[0m \u001b[0;32mas\u001b[0m \u001b[0mnp\u001b[0m\u001b[0;34m\u001b[0m\u001b[0;34m\u001b[0m\u001b[0m\n\u001b[1;32m      2\u001b[0m \u001b[0;32mimport\u001b[0m \u001b[0mcsv\u001b[0m\u001b[0;34m\u001b[0m\u001b[0;34m\u001b[0m\u001b[0m\n\u001b[0;32m----> 3\u001b[0;31m \u001b[0marr\u001b[0m \u001b[0;34m=\u001b[0m \u001b[0mnp\u001b[0m\u001b[0;34m.\u001b[0m\u001b[0mloadtxt\u001b[0m\u001b[0;34m(\u001b[0m\u001b[0;34m'minutes_n_ingredients.csv'\u001b[0m\u001b[0;34m,\u001b[0m \u001b[0mdelimiter\u001b[0m \u001b[0;34m=\u001b[0m \u001b[0;34m','\u001b[0m\u001b[0;34m,\u001b[0m \u001b[0mdtype\u001b[0m \u001b[0;34m=\u001b[0m \u001b[0mnp\u001b[0m\u001b[0;34m.\u001b[0m\u001b[0mint32\u001b[0m\u001b[0;34m,\u001b[0m \u001b[0mskiprows\u001b[0m \u001b[0;34m=\u001b[0m \u001b[0;36m1\u001b[0m\u001b[0;34m)\u001b[0m\u001b[0;34m\u001b[0m\u001b[0;34m\u001b[0m\u001b[0m\n\u001b[0m\u001b[1;32m      4\u001b[0m \u001b[0marr\u001b[0m\u001b[0;34m[\u001b[0m\u001b[0;34m:\u001b[0m\u001b[0;36m5\u001b[0m\u001b[0;34m]\u001b[0m\u001b[0;34m\u001b[0m\u001b[0;34m\u001b[0m\u001b[0m\n",
            "\u001b[0;32m/usr/local/lib/python3.8/dist-packages/numpy/lib/npyio.py\u001b[0m in \u001b[0;36mloadtxt\u001b[0;34m(fname, dtype, comments, delimiter, converters, skiprows, usecols, unpack, ndmin, encoding, max_rows, like)\u001b[0m\n\u001b[1;32m   1065\u001b[0m             \u001b[0mfname\u001b[0m \u001b[0;34m=\u001b[0m \u001b[0mos_fspath\u001b[0m\u001b[0;34m(\u001b[0m\u001b[0mfname\u001b[0m\u001b[0;34m)\u001b[0m\u001b[0;34m\u001b[0m\u001b[0;34m\u001b[0m\u001b[0m\n\u001b[1;32m   1066\u001b[0m         \u001b[0;32mif\u001b[0m \u001b[0m_is_string_like\u001b[0m\u001b[0;34m(\u001b[0m\u001b[0mfname\u001b[0m\u001b[0;34m)\u001b[0m\u001b[0;34m:\u001b[0m\u001b[0;34m\u001b[0m\u001b[0;34m\u001b[0m\u001b[0m\n\u001b[0;32m-> 1067\u001b[0;31m             \u001b[0mfh\u001b[0m \u001b[0;34m=\u001b[0m \u001b[0mnp\u001b[0m\u001b[0;34m.\u001b[0m\u001b[0mlib\u001b[0m\u001b[0;34m.\u001b[0m\u001b[0m_datasource\u001b[0m\u001b[0;34m.\u001b[0m\u001b[0mopen\u001b[0m\u001b[0;34m(\u001b[0m\u001b[0mfname\u001b[0m\u001b[0;34m,\u001b[0m \u001b[0;34m'rt'\u001b[0m\u001b[0;34m,\u001b[0m \u001b[0mencoding\u001b[0m\u001b[0;34m=\u001b[0m\u001b[0mencoding\u001b[0m\u001b[0;34m)\u001b[0m\u001b[0;34m\u001b[0m\u001b[0;34m\u001b[0m\u001b[0m\n\u001b[0m\u001b[1;32m   1068\u001b[0m             \u001b[0mfencoding\u001b[0m \u001b[0;34m=\u001b[0m \u001b[0mgetattr\u001b[0m\u001b[0;34m(\u001b[0m\u001b[0mfh\u001b[0m\u001b[0;34m,\u001b[0m \u001b[0;34m'encoding'\u001b[0m\u001b[0;34m,\u001b[0m \u001b[0;34m'latin1'\u001b[0m\u001b[0;34m)\u001b[0m\u001b[0;34m\u001b[0m\u001b[0;34m\u001b[0m\u001b[0m\n\u001b[1;32m   1069\u001b[0m             \u001b[0mfh\u001b[0m \u001b[0;34m=\u001b[0m \u001b[0miter\u001b[0m\u001b[0;34m(\u001b[0m\u001b[0mfh\u001b[0m\u001b[0;34m)\u001b[0m\u001b[0;34m\u001b[0m\u001b[0;34m\u001b[0m\u001b[0m\n",
            "\u001b[0;32m/usr/local/lib/python3.8/dist-packages/numpy/lib/_datasource.py\u001b[0m in \u001b[0;36mopen\u001b[0;34m(path, mode, destpath, encoding, newline)\u001b[0m\n\u001b[1;32m    191\u001b[0m \u001b[0;34m\u001b[0m\u001b[0m\n\u001b[1;32m    192\u001b[0m     \u001b[0mds\u001b[0m \u001b[0;34m=\u001b[0m \u001b[0mDataSource\u001b[0m\u001b[0;34m(\u001b[0m\u001b[0mdestpath\u001b[0m\u001b[0;34m)\u001b[0m\u001b[0;34m\u001b[0m\u001b[0;34m\u001b[0m\u001b[0m\n\u001b[0;32m--> 193\u001b[0;31m     \u001b[0;32mreturn\u001b[0m \u001b[0mds\u001b[0m\u001b[0;34m.\u001b[0m\u001b[0mopen\u001b[0m\u001b[0;34m(\u001b[0m\u001b[0mpath\u001b[0m\u001b[0;34m,\u001b[0m \u001b[0mmode\u001b[0m\u001b[0;34m,\u001b[0m \u001b[0mencoding\u001b[0m\u001b[0;34m=\u001b[0m\u001b[0mencoding\u001b[0m\u001b[0;34m,\u001b[0m \u001b[0mnewline\u001b[0m\u001b[0;34m=\u001b[0m\u001b[0mnewline\u001b[0m\u001b[0;34m)\u001b[0m\u001b[0;34m\u001b[0m\u001b[0;34m\u001b[0m\u001b[0m\n\u001b[0m\u001b[1;32m    194\u001b[0m \u001b[0;34m\u001b[0m\u001b[0m\n\u001b[1;32m    195\u001b[0m \u001b[0;34m\u001b[0m\u001b[0m\n",
            "\u001b[0;32m/usr/local/lib/python3.8/dist-packages/numpy/lib/_datasource.py\u001b[0m in \u001b[0;36mopen\u001b[0;34m(self, path, mode, encoding, newline)\u001b[0m\n\u001b[1;32m    531\u001b[0m                                       encoding=encoding, newline=newline)\n\u001b[1;32m    532\u001b[0m         \u001b[0;32melse\u001b[0m\u001b[0;34m:\u001b[0m\u001b[0;34m\u001b[0m\u001b[0;34m\u001b[0m\u001b[0m\n\u001b[0;32m--> 533\u001b[0;31m             \u001b[0;32mraise\u001b[0m \u001b[0mIOError\u001b[0m\u001b[0;34m(\u001b[0m\u001b[0;34m\"%s not found.\"\u001b[0m \u001b[0;34m%\u001b[0m \u001b[0mpath\u001b[0m\u001b[0;34m)\u001b[0m\u001b[0;34m\u001b[0m\u001b[0;34m\u001b[0m\u001b[0m\n\u001b[0m\u001b[1;32m    534\u001b[0m \u001b[0;34m\u001b[0m\u001b[0m\n\u001b[1;32m    535\u001b[0m \u001b[0;34m\u001b[0m\u001b[0m\n",
            "\u001b[0;31mOSError\u001b[0m: minutes_n_ingredients.csv not found."
          ]
        }
      ],
      "source": [
        "import numpy as np\n",
        "import csv \n",
        "arr = np.loadtxt('minutes_n_ingredients.csv', delimiter = ',', dtype = np.int32, skiprows = 1)\n",
        "arr[:5]"
      ]
    },
    {
      "cell_type": "code",
      "execution_count": null,
      "metadata": {
        "id": "2X40DNVq6Aea",
        "outputId": "f68f1b44-589a-4ad9-fee7-5761c50c68c2"
      },
      "outputs": [
        {
          "data": {
            "text/plain": [
              "array([[ 4, 10, 12, 18,  3,  0, 12],\n",
              "       [ 0,  8,  6,  4,  2,  1, 11],\n",
              "       [ 8, 17,  1, 10, 17,  6,  8],\n",
              "       [ 7,  1,  9, 11,  6, 16, 11]])"
            ]
          },
          "execution_count": 6,
          "metadata": {},
          "output_type": "execute_result"
        }
      ],
      "source": [
        "np.random.randint(0, 20, size = (4, 7))"
      ]
    },
    {
      "cell_type": "markdown",
      "metadata": {
        "id": "HqH9xSvJ6Aea"
      },
      "source": [
        "2. Создать матрицу 8 на 10 из случайных целых (используя модуль `numpy.random`) чисел из диапозона от 0 до 10 и найти в ней строку (ее индекс и вывести саму строку), в которой сумма значений минимальна."
      ]
    },
    {
      "cell_type": "code",
      "execution_count": null,
      "metadata": {
        "id": "Vk4GZ7k86Aeb",
        "outputId": "0f71bc6d-f838-4fa7-9304-d8c3d690dbbb"
      },
      "outputs": [
        {
          "data": {
            "text/plain": [
              "array([[3, 7, 9, 1, 9, 6, 9, 3, 2, 9],\n",
              "       [7, 8, 9, 7, 8, 3, 1, 5, 3, 9],\n",
              "       [1, 4, 2, 3, 9, 4, 1, 5, 4, 1],\n",
              "       [1, 4, 7, 9, 4, 7, 6, 8, 7, 8],\n",
              "       [0, 9, 4, 7, 8, 4, 5, 2, 4, 6],\n",
              "       [6, 1, 2, 9, 6, 8, 1, 9, 0, 2],\n",
              "       [5, 2, 4, 5, 9, 2, 1, 7, 5, 1],\n",
              "       [9, 2, 8, 5, 1, 4, 7, 9, 6, 2]])"
            ]
          },
          "execution_count": 7,
          "metadata": {},
          "output_type": "execute_result"
        }
      ],
      "source": [
        "np.random.randint(0, 10, size = (8, 10))"
      ]
    },
    {
      "cell_type": "markdown",
      "metadata": {
        "id": "AlwRlNDB6Aeb"
      },
      "source": [
        "3. Найти евклидово расстояние между двумя одномерными векторами одинаковой размерности."
      ]
    },
    {
      "cell_type": "code",
      "execution_count": null,
      "metadata": {
        "id": "i4W-BccR6Aec"
      },
      "outputs": [],
      "source": [
        "import matplotlib.pyplot as pl\n",
        "from mpl_toolkits.mplot3d import Axes3D"
      ]
    },
    {
      "cell_type": "code",
      "execution_count": null,
      "metadata": {
        "id": "SQrJ0LvX6Aec"
      },
      "outputs": [],
      "source": []
    },
    {
      "cell_type": "markdown",
      "metadata": {
        "id": "X48FTgyR6Aed"
      },
      "source": [
        "4. Решить матричное уравнение `A*X*B=-C` - найти матрицу `X`. Где `A = [[-1, 2, 4], [-3, 1, 2], [-3, 0, 1]]`, `B=[[3, -1], [2, 1]]`, `C=[[7, 21], [11, 8], [8, 4]]`."
      ]
    },
    {
      "cell_type": "markdown",
      "metadata": {
        "id": "MkGD7nmS6Aed"
      },
      "source": [
        "## Лабораторная работа №1"
      ]
    },
    {
      "cell_type": "markdown",
      "metadata": {
        "id": "QC9A66bE6Aed"
      },
      "source": [
        "Замечание: при решении данных задач не подразумевается использования циклов или генераторов Python, если в задании не сказано обратного. Решение должно опираться на использования функционала библиотеки `numpy`."
      ]
    },
    {
      "cell_type": "markdown",
      "metadata": {
        "id": "jLu813yq6Aed"
      },
      "source": [
        "1. Файл `minutes_n_ingredients.csv` содержит информацию об идентификаторе рецепта, времени его выполнения в минутах и количестве необходимых ингредиентов. Считайте данные из этого файла в виде массива `numpy` типа `int32`, используя `np.loadtxt`. Выведите на экран первые 5 строк массива."
      ]
    },
    {
      "cell_type": "code",
      "source": [
        "import numpy as np\n",
        "import csv \n",
        "arr1 = np.loadtxt('/boot/csv файл/minutes_n_ingredients.csv', delimiter = ',', dtype = np.int32, skiprows = 1)\n",
        "arr1[:5]"
      ],
      "metadata": {
        "id": "R8mPPLNm6zxt",
        "colab": {
          "base_uri": "https://localhost:8080/"
        },
        "outputId": "70476b91-1ea0-4820-bf34-44e563ee057a"
      },
      "execution_count": null,
      "outputs": [
        {
          "output_type": "execute_result",
          "data": {
            "text/plain": [
              "array([[127244,     60,     16],\n",
              "       [ 23891,     25,      7],\n",
              "       [ 94746,     10,      6],\n",
              "       [ 67660,      5,      6],\n",
              "       [157911,     60,     14]], dtype=int32)"
            ]
          },
          "metadata": {},
          "execution_count": 3
        }
      ]
    },
    {
      "cell_type": "markdown",
      "metadata": {
        "id": "x83Jz69L6Aee"
      },
      "source": [
        "2. Вычислите среднее значение, минимум, максимум и медиану по каждому из столбцов, кроме первого."
      ]
    },
    {
      "cell_type": "code",
      "source": [
        "import numpy as np\n",
        "data = np.loadtxt('/boot/csv файл/minutes_n_ingredients.csv', delimiter = ',', dtype = np.int32, skiprows = 1)\n",
        "data[:,1:]\n",
        "means = np.mean(data, axis = 0)\n",
        "mins = np.min(data, axis =0)\n",
        "maxs = np.max(data, axis = 0)\n",
        "medians = np.median(data, axis = 0)\n",
        "print('Means: ', means)\n",
        "print('Mins: ', mins)\n",
        "print('Maxs: ', maxs)\n",
        "print('Medians: ', medians)"
      ],
      "metadata": {
        "id": "tUWMJHqh61Ms",
        "colab": {
          "base_uri": "https://localhost:8080/"
        },
        "outputId": "43f77cc8-b1e3-42f7-dae3-22b7a96903a0"
      },
      "execution_count": null,
      "outputs": [
        {
          "output_type": "stream",
          "name": "stdout",
          "text": [
            "Means:  [2.22064324e+05 2.16010017e+04 9.05528000e+00]\n",
            "Mins:  [38  0  1]\n",
            "Maxs:  [    537671 2147483647         39]\n",
            "Medians:  [2.071935e+05 4.000000e+01 9.000000e+00]\n"
          ]
        }
      ]
    },
    {
      "cell_type": "markdown",
      "metadata": {
        "id": "57xmxrU36Aee"
      },
      "source": [
        "3. Ограничьте сверху значения продолжительности выполнения рецепта значением квантиля $q_{0.75}$. "
      ]
    },
    {
      "cell_type": "code",
      "source": [
        "import numpy as np\n",
        "data = np.loadtxt('/boot/csv файл/minutes_n_ingredients.csv', delimiter = ',', dtype = np.int32, skiprows = 1)\n",
        "q = np.quantile(data[:,1:2], q=0.75, axis =0)\n",
        "print(data[data[:,1]<=q])"
      ],
      "metadata": {
        "id": "9DephsGq61nc",
        "colab": {
          "base_uri": "https://localhost:8080/"
        },
        "outputId": "413fef10-ea0b-45c9-9704-b179d305d68c"
      },
      "execution_count": null,
      "outputs": [
        {
          "output_type": "stream",
          "name": "stdout",
          "text": [
            "[[127244     60     16]\n",
            " [ 23891     25      7]\n",
            " [ 94746     10      6]\n",
            " ...\n",
            " [ 43407     35      7]\n",
            " [498432     65     15]\n",
            " [370915      5      4]]\n"
          ]
        }
      ]
    },
    {
      "cell_type": "markdown",
      "metadata": {
        "id": "6uMvqwPk6Aee"
      },
      "source": [
        "4. Посчитайте, для скольких рецептов указана продолжительность, равная нулю. Замените для таких строк значение в данном столбце на 1."
      ]
    },
    {
      "cell_type": "code",
      "source": [
        "import numpy as np\n",
        "data = np.loadtxt('/boot/csv файл/minutes_n_ingredients.csv', delimiter = ',', dtype = np.int32, skiprows = 1)\n",
        "print(len(data[data[:,1]==0]))\n",
        "data[data[:,1]==0] = 1"
      ],
      "metadata": {
        "id": "0fMZ8Zg561_M",
        "colab": {
          "base_uri": "https://localhost:8080/"
        },
        "outputId": "c889cb88-0327-48c2-cd61-5f683ed0667e"
      },
      "execution_count": null,
      "outputs": [
        {
          "output_type": "stream",
          "name": "stdout",
          "text": [
            "479\n"
          ]
        }
      ]
    },
    {
      "cell_type": "markdown",
      "metadata": {
        "id": "nNnRhsFh6Aee"
      },
      "source": [
        "5. Посчитайте, сколько уникальных рецептов находится в датасете."
      ]
    },
    {
      "cell_type": "code",
      "source": [
        "import numpy as np\n",
        "data = np.loadtxt('/boot/csv файл/minutes_n_ingredients.csv', delimiter = ',', dtype = np.int32, skiprows = 1)\n",
        "len(np.unique(data[:,0]))"
      ],
      "metadata": {
        "id": "qifQCgdW62ec",
        "colab": {
          "base_uri": "https://localhost:8080/"
        },
        "outputId": "5e1673e3-bc71-4f3c-e516-fe9d19f8095e"
      },
      "execution_count": null,
      "outputs": [
        {
          "output_type": "execute_result",
          "data": {
            "text/plain": [
              "100000"
            ]
          },
          "metadata": {},
          "execution_count": 15
        }
      ]
    },
    {
      "cell_type": "markdown",
      "metadata": {
        "id": "cp6pDq8p6Aee"
      },
      "source": [
        "6. Сколько и каких различных значений кол-ва ингредиентов присутвует в рецептах из датасета?"
      ]
    },
    {
      "cell_type": "code",
      "source": [
        "import numpy as np\n",
        "data = np.loadtxt('/boot/csv файл/minutes_n_ingredients.csv', delimiter = ',', dtype = np.int32, skiprows = 1)\n",
        "num = set(data[:,2])\n",
        "print(len(num))"
      ],
      "metadata": {
        "id": "vN2GPx1R629s",
        "colab": {
          "base_uri": "https://localhost:8080/"
        },
        "outputId": "36cdfc43-c748-4dfc-a4c9-2f3a10e18cee"
      },
      "execution_count": null,
      "outputs": [
        {
          "output_type": "stream",
          "name": "stdout",
          "text": [
            "37\n"
          ]
        }
      ]
    },
    {
      "cell_type": "markdown",
      "metadata": {
        "id": "ZtAy1iA46Aef"
      },
      "source": [
        "7. Создайте версию массива, содержащую информацию только о рецептах, состоящих не более чем из 5 ингредиентов."
      ]
    },
    {
      "cell_type": "code",
      "source": [
        "import numpy as np\n",
        "data = np.loadtxt('/boot/csv файл/minutes_n_ingredients.csv', delimiter = ',', dtype = np.int32, skiprows = 1)\n",
        "arr5 = data[data[:,2] <= 5]\n",
        "arr5"
      ],
      "metadata": {
        "id": "wj3IhsPo63ms",
        "colab": {
          "base_uri": "https://localhost:8080/"
        },
        "outputId": "3a4520a8-ae10-4448-c6b8-d743c89c80ac"
      },
      "execution_count": null,
      "outputs": [
        {
          "output_type": "execute_result",
          "data": {
            "text/plain": [
              "array([[446597,     15,      5],\n",
              "       [204134,      5,      3],\n",
              "       [ 25623,      6,      4],\n",
              "       ...,\n",
              "       [ 52088,     60,      5],\n",
              "       [128811,     15,      4],\n",
              "       [370915,      5,      4]], dtype=int32)"
            ]
          },
          "metadata": {},
          "execution_count": 17
        }
      ]
    },
    {
      "cell_type": "markdown",
      "metadata": {
        "id": "85T05OLl6Aef"
      },
      "source": [
        "8. Для каждого рецепта посчитайте, сколько в среднем ингредиентов приходится на одну минуту рецепта. Найдите максимальное значение этой величины для всего датасета"
      ]
    },
    {
      "cell_type": "code",
      "source": [
        "import numpy as np\n",
        "data = np.loadtxt('/boot/csv файл/minutes_n_ingredients.csv', delimiter = ',', dtype = np.int32, skiprows = 1)\n",
        "value = data[:,2] / data[:,1]\n",
        "print(value.max(axis = 0))"
      ],
      "metadata": {
        "id": "_J2kW-n464JM",
        "colab": {
          "base_uri": "https://localhost:8080/"
        },
        "outputId": "bf881aa1-479c-4d2e-adf5-ecbbe493f68a"
      },
      "execution_count": null,
      "outputs": [
        {
          "output_type": "stream",
          "name": "stdout",
          "text": [
            "inf\n"
          ]
        },
        {
          "output_type": "stream",
          "name": "stderr",
          "text": [
            "<ipython-input-23-2c3f75dd6b89>:3: RuntimeWarning: divide by zero encountered in true_divide\n",
            "  value = data[:,2] / data[:,1]\n"
          ]
        }
      ]
    },
    {
      "cell_type": "markdown",
      "metadata": {
        "id": "pvnZL38w6Aef"
      },
      "source": [
        "9. Вычислите среднее количество ингредиентов для топ-100 рецептов с наибольшей продолжительностью"
      ]
    },
    {
      "cell_type": "code",
      "source": [
        "import numpy as np\n",
        "data = np.loadtxt('/boot/csv файл/minutes_n_ingredients.csv', delimiter = ',', dtype = np.int32, skiprows = 1)\n",
        "sorted = data[data[:,1].argsort()]\n",
        "sorted = sorted[-100:]\n",
        "np.mean(sorted[:,2])"
      ],
      "metadata": {
        "id": "hR7ZZmlE64-k",
        "colab": {
          "base_uri": "https://localhost:8080/"
        },
        "outputId": "19e103bf-35da-4bb7-8154-c4de07c881d7"
      },
      "execution_count": null,
      "outputs": [
        {
          "output_type": "execute_result",
          "data": {
            "text/plain": [
              "6.61"
            ]
          },
          "metadata": {},
          "execution_count": 24
        }
      ]
    },
    {
      "cell_type": "markdown",
      "metadata": {
        "id": "_7LyhAkm6Aeg"
      },
      "source": [
        "10. Выберите случайным образом и выведите информацию о 10 различных рецептах"
      ]
    },
    {
      "cell_type": "code",
      "source": [
        "import numpy as np\n",
        "data = np.loadtxt('/boot/csv файл/minutes_n_ingredients.csv', delimiter = ',', dtype = np.int32, skiprows = 1)\n",
        "n = 10\n",
        "index = np.random.choice(data.shape[0], n, replace = False)\n",
        "data[index]"
      ],
      "metadata": {
        "id": "9u2CIg-V66AU",
        "colab": {
          "base_uri": "https://localhost:8080/"
        },
        "outputId": "286a70a2-8af5-49ed-d94c-60fda4787bad"
      },
      "execution_count": null,
      "outputs": [
        {
          "output_type": "execute_result",
          "data": {
            "text/plain": [
              "array([[436611,     85,     10],\n",
              "       [ 35441,     55,      9],\n",
              "       [362179,     30,     11],\n",
              "       [335476,     25,      4],\n",
              "       [400643,     30,      9],\n",
              "       [217420,     15,      7],\n",
              "       [198776,    270,     12],\n",
              "       [   290,     66,     12],\n",
              "       [510756,     45,      7],\n",
              "       [163200,     35,      8]], dtype=int32)"
            ]
          },
          "metadata": {},
          "execution_count": 25
        }
      ]
    },
    {
      "cell_type": "markdown",
      "metadata": {
        "id": "NVGdePgK6Aeg"
      },
      "source": [
        "11. Выведите процент рецептов, кол-во ингредиентов в которых меньше среднего."
      ]
    },
    {
      "cell_type": "code",
      "source": [
        "import numpy as np\n",
        "data = np.loadtxt('/boot/csv файл/minutes_n_ingredients.csv', delimiter = ',', dtype = np.int32, skiprows = 1)\n",
        "means = np.mean(data[:,2])\n",
        "lessmean = len(data[data[:,2] < means])\n",
        "per = 100*lessmean / len(data)\n",
        "per"
      ],
      "metadata": {
        "id": "YQ4H1w-766jM",
        "colab": {
          "base_uri": "https://localhost:8080/"
        },
        "outputId": "93fe46b8-c6fd-434e-8346-6f277d68fd56"
      },
      "execution_count": null,
      "outputs": [
        {
          "output_type": "execute_result",
          "data": {
            "text/plain": [
              "58.802"
            ]
          },
          "metadata": {},
          "execution_count": 26
        }
      ]
    },
    {
      "cell_type": "markdown",
      "metadata": {
        "id": "xUHlUL_Y6Aeg"
      },
      "source": [
        "12. Назовем \"простым\" такой рецепт, длительность выполнения которого не больше 20 минут и кол-во ингредиентов в котором не больше 5. Создайте версию датасета с дополнительным столбцом, значениями которого являются 1, если рецепт простой, и 0 в противном случае."
      ]
    },
    {
      "cell_type": "code",
      "source": [
        "import numpy as np\n",
        "data = np.loadtxt('/boot/csv файл/minutes_n_ingredients.csv', delimiter = ',', dtype = np.int32, skiprows = 1)\n",
        "data2 = data.copy()\n",
        "prost = [1 if (row[1] <= 20) & (row[2] <=5) else 0 for row in data2]\n",
        "new_data = np.insert(data2, 3, prost, axis = 1)\n",
        "print(new_data)"
      ],
      "metadata": {
        "id": "YFNzyVfk669k",
        "colab": {
          "base_uri": "https://localhost:8080/"
        },
        "outputId": "fb45dd89-e113-4b16-d098-b3a3978b600d"
      },
      "execution_count": null,
      "outputs": [
        {
          "output_type": "stream",
          "name": "stdout",
          "text": [
            "[[127244     60     16      0]\n",
            " [ 23891     25      7      0]\n",
            " [ 94746     10      6      0]\n",
            " ...\n",
            " [498432     65     15      0]\n",
            " [370915      5      4      1]\n",
            " [ 81993    140     14      0]]\n"
          ]
        }
      ]
    },
    {
      "cell_type": "markdown",
      "metadata": {
        "id": "ZmzE_cBH6Aeg"
      },
      "source": [
        "13. Выведите процент \"простых\" рецептов в датасете"
      ]
    },
    {
      "cell_type": "code",
      "source": [
        "import numpy as np\n",
        "data = np.loadtxt('/boot/csv файл/minutes_n_ingredients.csv', delimiter = ',', dtype = np.int32, skiprows = 1)\n",
        "data2 = data.copy()\n",
        "prost = [1 if (row[1] <= 20) & (row[2] <=5) else 0 for row in data2]\n",
        "new_data = np.insert(data2, 3, prost, axis = 1)\n",
        "percent = (new_data[:,3] == 1)\n",
        "len(data[percent, :])/len(new_data)*100"
      ],
      "metadata": {
        "id": "x8VbVv8R67aE",
        "colab": {
          "base_uri": "https://localhost:8080/"
        },
        "outputId": "948d9582-1f44-4553-f0f1-46c3dd394744"
      },
      "execution_count": null,
      "outputs": [
        {
          "output_type": "execute_result",
          "data": {
            "text/plain": [
              "9.552"
            ]
          },
          "metadata": {},
          "execution_count": 28
        }
      ]
    },
    {
      "cell_type": "markdown",
      "metadata": {
        "id": "d8LFwOpJ6Aeg"
      },
      "source": [
        "14. Разделим рецепты на группы по следующему правилу. Назовем рецепты короткими, если их продолжительность составляет менее 10 минут; стандартными, если их продолжительность составляет более 10, но менее 20 минут; и длинными, если их продолжительность составляет не менее 20 минут. Создайте трехмерный массив, где нулевая ось отвечает за номер группы (короткий, стандартный или длинный рецепт), первая ось - за сам рецепт и вторая ось - за характеристики рецепта. Выберите максимальное количество рецептов из каждой группы таким образом, чтобы было возможно сформировать трехмерный массив. Выведите форму полученного массива."
      ]
    },
    {
      "cell_type": "code",
      "execution_count": null,
      "metadata": {
        "id": "DW7Vqizo6Aeh"
      },
      "outputs": [],
      "source": []
    }
  ],
  "metadata": {
    "kernelspec": {
      "display_name": "Python 3 (ipykernel)",
      "language": "python",
      "name": "python3"
    },
    "language_info": {
      "codemirror_mode": {
        "name": "ipython",
        "version": 3
      },
      "file_extension": ".py",
      "mimetype": "text/x-python",
      "name": "python",
      "nbconvert_exporter": "python",
      "pygments_lexer": "ipython3",
      "version": "3.9.12"
    },
    "colab": {
      "provenance": []
    }
  },
  "nbformat": 4,
  "nbformat_minor": 0
}